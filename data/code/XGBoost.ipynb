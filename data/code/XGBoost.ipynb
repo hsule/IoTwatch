{
  "cells": [
    {
      "cell_type": "code",
      "execution_count": 1,
      "metadata": {
        "id": "i43vIAI_e3xW"
      },
      "outputs": [],
      "source": [
        "import numpy as np\n",
        "import pandas as pd\n",
        "import matplotlib.pyplot as plt\n",
        "from sklearn.model_selection import KFold\n",
        "from sklearn.metrics import confusion_matrix\n",
        "from sklearn.metrics import classification_report\n",
        "from xgboost import XGBClassifier\n",
        "\n",
        "import seaborn as sns \n",
        "\n",
        "from sklearn.ensemble import RandomForestClassifier\n",
        "from sklearn.tree import DecisionTreeClassifier\n",
        "from sklearn.ensemble import StackingClassifier\n",
        "from sklearn.neural_network import MLPClassifier\n",
        "from sklearn.ensemble import AdaBoostClassifier\n",
        "from sklearn.ensemble import GradientBoostingClassifier\n",
        "from sklearn.linear_model import LogisticRegression\n",
        "\n",
        "\n",
        "\n",
        "%matplotlib inline"
      ]
    },
    {
      "cell_type": "code",
      "execution_count": 2,
      "metadata": {
        "id": "9ge-I-eLe3xZ"
      },
      "outputs": [],
      "source": [
        "import warnings\n",
        "warnings.filterwarnings('ignore')"
      ]
    },
    {
      "cell_type": "markdown",
      "metadata": {
        "id": "xZVv8pcHe3xa"
      },
      "source": [
        "匯入data"
      ]
    },
    {
      "cell_type": "code",
      "execution_count": 4,
      "metadata": {
        "id": "aVHOvnoIe3xb"
      },
      "outputs": [],
      "source": [
        "x = np.genfromtxt('preprocessed_x.csv', delimiter=',')\n",
        "y = np.genfromtxt('preprocessed_y.csv', delimiter=',', dtype= None)"
      ]
    },
    {
      "cell_type": "code",
      "execution_count": 5,
      "metadata": {
        "scrolled": false,
        "colab": {
          "base_uri": "https://localhost:8080/",
          "height": 558
        },
        "id": "EMDLjo5ce3xc",
        "outputId": "cf7aefa2-adae-4e70-d670-ef783a559218"
      },
      "outputs": [
        {
          "output_type": "stream",
          "name": "stdout",
          "text": [
            "XGB\n",
            "                   precision    recall  f1-score   support\n",
            "\n",
            "      b'bathroom'       0.33      0.29      0.31         7\n",
            "       b'driving'       0.71      0.36      0.48        33\n",
            "        b'eating'       0.50      0.11      0.18        45\n",
            "         b'lying'       0.67      0.43      0.52        47\n",
            "        b'riding'       0.00      0.00      0.00         2\n",
            "       b'sitting'       0.67      0.87      0.76       216\n",
            "      b'standing'       0.00      0.00      0.00         2\n",
            "b'using_computer'       0.84      0.92      0.88       232\n",
            "       b'walking'       0.79      0.39      0.52        28\n",
            "\n",
            "         accuracy                           0.74       612\n",
            "        macro avg       0.50      0.37      0.41       612\n",
            "     weighted avg       0.72      0.74      0.71       612\n",
            "\n"
          ]
        },
        {
          "output_type": "display_data",
          "data": {
            "text/plain": [
              "<Figure size 432x288 with 1 Axes>"
            ],
            "image/png": "[encoded data removed]"
          },
          "metadata": {
            "needs_background": "light"
          }
        }
      ],
      "source": [
        "xgb = XGBClassifier()\n",
        "\n",
        "fin_test = np.array([])\n",
        "fin_pred = np.array([])\n",
        "\n",
        "for i,(train, test) in enumerate(KFold(n_splits=3).split(x)):\n",
        "    #Train-Test-Split\n",
        "    x_train = x[train]\n",
        "    y_train = y[train]\n",
        "    x_test = x[test]\n",
        "    y_test = y[test]\n",
        "    xgb.fit(x_train, y_train)\n",
        "\n",
        "    fin_test = np.concatenate((fin_test, y_test), axis=0)\n",
        "    fin_pred = np.concatenate((fin_pred, xgb.predict(x_test)), axis=0)\n",
        "\n",
        "print(\"XGB\")\n",
        "print(classification_report(fin_test, fin_pred))\n",
        "\n",
        "sns.heatmap(confusion_matrix(fin_test, fin_pred), square= True, fmt ='.0f', annot=True, cbar=False)\n",
        "plt.xlabel(\"predicted value\")\n",
        "plt.ylabel(\"true value\")\n",
        "plt.show()\n"
      ]
    }
  ],
  "metadata": {
    "kernelspec": {
      "display_name": "Python 3 (ipykernel)",
      "language": "python",
      "name": "python3"
    },
    "language_info": {
      "codemirror_mode": {
        "name": "ipython",
        "version": 3
      },
      "file_extension": ".py",
      "mimetype": "text/x-python",
      "name": "python",
      "nbconvert_exporter": "python",
      "pygments_lexer": "ipython3",
      "version": "3.10.0"
    },
    "vscode": {
      "interpreter": {
        "hash": "aee8b7b246df8f9039afb4144a1f6fd8d2ca17a180786b69acc140d282b71a49"
      }
    },
    "colab": {
      "provenance": []
    }
  },
  "nbformat": 4,
  "nbformat_minor": 0
}