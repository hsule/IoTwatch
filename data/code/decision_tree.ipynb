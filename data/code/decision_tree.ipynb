{
 "cells": [
  {
   "cell_type": "code",
   "execution_count": null,
   "metadata": {},
   "outputs": [],
   "source": [
    "import numpy as np\n",
    "import matplotlib.pyplot as plt\n",
    "from sklearn.metrics import classification_report\n",
    "from sklearn.model_selection import cross_val_predict\n",
    "from mlxtend.plotting import plot_confusion_matrix\n",
    "from mlxtend.evaluate import confusion_matrix\n",
    "\n",
    "from sklearn.tree import DecisionTreeClassifier\n",
    "\n",
    "%matplotlib inline"
   ]
  },
  {
   "cell_type": "code",
   "execution_count": null,
   "metadata": {},
   "outputs": [],
   "source": [
    "import warnings\n",
    "warnings.filterwarnings('ignore')"
   ]
  },
  {
   "cell_type": "markdown",
   "metadata": {},
   "source": [
    "匯入data"
   ]
  },
  {
   "cell_type": "code",
   "execution_count": null,
   "metadata": {},
   "outputs": [],
   "source": [
    "x = np.genfromtxt('preprocessed_x_bathroom.csv', delimiter=',')\n",
    "y = np.genfromtxt('preprocessed_y_bathroom.csv', delimiter=',', dtype= None)"
   ]
  },
  {
   "cell_type": "code",
   "execution_count": null,
   "metadata": {},
   "outputs": [],
   "source": [
    "feature_names=[]\n",
    "for names in y:\n",
    "  if names not in feature_names:\n",
    "    feature_names.append(names)"
   ]
  },
  {
   "cell_type": "code",
   "execution_count": null,
   "metadata": {
    "scrolled": false
   },
   "outputs": [
    {
     "name": "stdout",
     "output_type": "stream",
     "text": [
      "DecisionTreeClassifier\n",
      "                   precision    recall  f1-score   support\n",
      "\n",
      "      b'bathroom'       0.25      0.29      0.27         7\n",
      "       b'driving'       0.43      0.27      0.33        33\n",
      "        b'eating'       0.19      0.29      0.23        45\n",
      "         b'lying'       0.21      0.21      0.21        47\n",
      "        b'riding'       0.00      0.00      0.00         2\n",
      "       b'sitting'       0.57      0.60      0.59       216\n",
      "      b'standing'       0.00      0.00      0.00         2\n",
      "b'using_computer'       0.73      0.64      0.68       232\n",
      "       b'walking'       0.27      0.29      0.28        28\n",
      "\n",
      "         accuracy                           0.52       612\n",
      "        macro avg       0.29      0.29      0.29       612\n",
      "     weighted avg       0.55      0.52      0.53       612\n",
      "\n"
     ]
    },
    {
     "data": {
      "image/png": "[encoded data removed]",
      "text/plain": [
       "<Figure size 432x288 with 1 Axes>"
      ]
     },
     "metadata": {
      "needs_background": "light"
     },
     "output_type": "display_data"
    }
   ],
   "source": [
    "dt = DecisionTreeClassifier()\n",
    "\n",
    "for splits in range(5,7):\n",
    "    fin_pred = cross_val_predict(dt, x, y, cv=splits)\n",
    "    print(\"Desicion Tree\")\n",
    "    print(classification_report(y, fin_pred))\n",
    "\n",
    "    cm = confusion_matrix(y_target=y, \n",
    "                y_predicted=fin_pred, \n",
    "                binary=False)\n",
    "    fig,ax=plot_confusion_matrix(conf_mat=cm\n",
    "                ,show_absolute=True\n",
    "                ,show_normed=False\n",
    "                ,colorbar=False\n",
    "                ,class_names=feature_names\n",
    "                #,cmap='PuBu'\n",
    "                ,fontcolor_threshold=0.6\n",
    "                )\n",
    "    plt.show()"
   ]
  },
  {
   "cell_type": "code",
   "execution_count": null,
   "metadata": {},
   "outputs": [],
   "source": []
  }
 ],
 "metadata": {
  "kernelspec": {
   "display_name": "Python 3",
   "language": "python",
   "name": "python3"
  },
  "language_info": {
   "codemirror_mode": {
    "name": "ipython",
    "version": 3
   },
   "file_extension": ".py",
   "mimetype": "text/x-python",
   "name": "python",
   "nbconvert_exporter": "python",
   "pygments_lexer": "ipython3",
   "version": "3.10.0 (tags/v3.10.0:b494f59, Oct  4 2021, 19:00:18) [MSC v.1929 64 bit (AMD64)]"
  },
  "vscode": {
   "interpreter": {
    "hash": "57e3ffd0aa5f522d043ae6935574d5ca5b6b7a6179bb5e22d076dcaf64259c80"
   }
  }
 },
 "nbformat": 4,
 "nbformat_minor": 2
}
