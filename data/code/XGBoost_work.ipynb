{
  "nbformat": 4,
  "nbformat_minor": 0,
  "metadata": {
    "colab": {
      "provenance": []
    },
    "kernelspec": {
      "name": "python3",
      "display_name": "Python 3"
    },
    "language_info": {
      "name": "python"
    }
  },
  "cells": [
    {
      "cell_type": "code",
      "execution_count": 1,
      "metadata": {
        "id": "uPzEzsNYbXku"
      },
      "outputs": [],
      "source": [
        "import numpy as np\n",
        "import pandas as pd\n",
        "import matplotlib.pyplot as plt\n",
        "from sklearn.model_selection import KFold\n",
        "from sklearn.metrics import confusion_matrix\n",
        "from sklearn.metrics import classification_report\n",
        "from xgboost import XGBClassifier\n",
        "\n",
        "import seaborn as sns \n",
        "\n",
        "\n",
        "%matplotlib inline"
      ]
    },
    {
      "cell_type": "code",
      "source": [
        "xg1 = XGBClassifier()\n",
        "#xg1=xg1.fit(x_train, y_train)\n",
        "\n",
        "#score(xg1, x_train, y_train, x_test, y_test, train=False)"
      ],
      "metadata": {
        "id": "kV2L3W8abyWl"
      },
      "execution_count": 3,
      "outputs": []
    },
    {
      "cell_type": "code",
      "source": [
        "x = np.genfromtxt('preprocessed_x.csv', delimiter=',')\n",
        "y = np.genfromtxt('preprocessed_y.csv', delimiter=',', dtype= None)"
      ],
      "metadata": {
        "colab": {
          "base_uri": "https://localhost:8080/"
        },
        "id": "Fko-sWEYb3R0",
        "outputId": "ceec9c59-3418-46e3-cf1c-5cd8aea5f0dc"
      },
      "execution_count": 4,
      "outputs": [
        {
          "output_type": "stream",
          "name": "stderr",
          "text": [
            "/usr/local/lib/python3.7/dist-packages/ipykernel_launcher.py:2: VisibleDeprecationWarning: Reading unicode strings without specifying the encoding argument is deprecated. Set the encoding, use None for the system default.\n",
            "  \n"
          ]
        }
      ]
    },
    {
      "cell_type": "code",
      "source": [
        "\n",
        "fin_test = np.array([])\n",
        "fin_pred = np.array([])\n",
        "\n",
        "for i,(train, test) in enumerate(KFold(n_splits=3).split(x)):\n",
        "    #Train-Test-Split\n",
        "    x_train = x[train]\n",
        "    y_train = y[train]\n",
        "    x_test = x[test]\n",
        "    y_test = y[test]\n",
        "    \n",
        "    xg1.fit(x_train, y_train)\n",
        "\n",
        "    fin_test = np.concatenate((fin_test, y_test), axis=0)\n",
        "    fin_pred = np.concatenate((fin_pred, xg1.predict(x_test)), axis=0)\n",
        "\n",
        "print(classification_report(fin_test, fin_pred))\n",
        "\n",
        "sns.heatmap(confusion_matrix(fin_test, fin_pred), square= True, fmt ='.0f', annot=True, cbar=False)\n",
        "plt.xlabel(\"predicted value\")\n",
        "plt.ylabel(\"true value\")\n",
        "plt.show()\n"
      ],
      "metadata": {
        "colab": {
          "base_uri": "https://localhost:8080/",
          "height": 626
        },
        "id": "6m3V4iPQd15X",
        "outputId": "2113d603-99f1-49a5-d294-385601faf4f9"
      },
      "execution_count": 6,
      "outputs": [
        {
          "output_type": "stream",
          "name": "stdout",
          "text": [
            "                   precision    recall  f1-score   support\n",
            "\n",
            "      b'bathroom'       0.10      0.06      0.08        16\n",
            "         b'class'       0.00      0.00      0.00        11\n",
            "       b'driving'       0.13      0.04      0.06        48\n",
            "        b'eating'       0.27      0.31      0.29        65\n",
            "         b'lying'       0.72      0.85      0.78       266\n",
            "         b'other'       0.28      0.10      0.14        83\n",
            "        b'riding'       0.11      0.07      0.08        15\n",
            "b'riding_bicycle'       0.00      0.00      0.00        17\n",
            "       b'sitting'       0.42      0.57      0.48       208\n",
            "      b'sleeping'       0.29      0.13      0.18        15\n",
            "      b'standing'       0.00      0.00      0.00         7\n",
            "b'using_computer'       0.56      0.54      0.55       168\n",
            "       b'walking'       0.60      0.64      0.62        92\n",
            "\n",
            "         accuracy                           0.52      1011\n",
            "        macro avg       0.27      0.25      0.25      1011\n",
            "     weighted avg       0.48      0.52      0.49      1011\n",
            "\n"
          ]
        },
        {
          "output_type": "display_data",
          "data": {
            "text/plain": [
              "<Figure size 432x288 with 1 Axes>"
            ],
            "image/png": "[encoded data removed]"
          },
          "metadata": {
            "needs_background": "light"
          }
        }
      ]
    }
  ]
}