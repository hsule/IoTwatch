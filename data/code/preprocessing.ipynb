{
 "cells": [
  {
   "cell_type": "code",
   "execution_count": 8,
   "id": "323b1e38",
   "metadata": {},
   "outputs": [],
   "source": [
    "import glob\n",
    "import csv\n",
    "import pandas as pd\n",
    "from pathlib import Path\n",
    "from datetime import *\n"
   ]
  },
  {
   "cell_type": "markdown",
   "id": "58584f2a",
   "metadata": {},
   "source": [
    "匯入sensor data"
   ]
  },
  {
   "cell_type": "code",
   "execution_count": 9,
   "id": "81a20cc5",
   "metadata": {
    "scrolled": false
   },
   "outputs": [
    {
     "ename": "TypeError",
     "evalue": "'float' object cannot be interpreted as an integer",
     "output_type": "error",
     "traceback": [
      "\u001b[0;31m---------------------------------------------------------------------------\u001b[0m",
      "\u001b[0;31mTypeError\u001b[0m                                 Traceback (most recent call last)",
      "\u001b[1;32m/Users/leannhsu/IoTwatch/data/code/preprocessing.ipynb Cell 3\u001b[0m in \u001b[0;36m<cell line: 11>\u001b[0;34m()\u001b[0m\n\u001b[1;32m      <a href='vscode-notebook-cell:/Users/leannhsu/IoTwatch/data/code/preprocessing.ipynb#W2sZmlsZQ%3D%3D?line=7'>8</a>\u001b[0m \u001b[39m#有幾天的資料\u001b[39;00m\n\u001b[1;32m      <a href='vscode-notebook-cell:/Users/leannhsu/IoTwatch/data/code/preprocessing.ipynb#W2sZmlsZQ%3D%3D?line=8'>9</a>\u001b[0m csv_num \u001b[39m=\u001b[39m \u001b[39mlen\u001b[39m(list_)\u001b[39m/\u001b[39m\u001b[39m7\u001b[39m\n\u001b[0;32m---> <a href='vscode-notebook-cell:/Users/leannhsu/IoTwatch/data/code/preprocessing.ipynb#W2sZmlsZQ%3D%3D?line=10'>11</a>\u001b[0m \u001b[39mfor\u001b[39;00m i \u001b[39min\u001b[39;00m \u001b[39mrange\u001b[39;49m(csv_num):\n\u001b[1;32m     <a href='vscode-notebook-cell:/Users/leannhsu/IoTwatch/data/code/preprocessing.ipynb#W2sZmlsZQ%3D%3D?line=11'>12</a>\u001b[0m     \u001b[39mif\u001b[39;00m i\u001b[39m==\u001b[39m\u001b[39m0\u001b[39m:\n\u001b[1;32m     <a href='vscode-notebook-cell:/Users/leannhsu/IoTwatch/data/code/preprocessing.ipynb#W2sZmlsZQ%3D%3D?line=12'>13</a>\u001b[0m         hR \u001b[39m=\u001b[39m pd\u001b[39m.\u001b[39mread_csv(list_[i])\n",
      "\u001b[0;31mTypeError\u001b[0m: 'float' object cannot be interpreted as an integer"
     ]
    }
   ],
   "source": [
    "allFiles = glob.glob(\"../watch\"+\"*.csv\")\n",
    "frame = pd.DataFrame()\n",
    "list_ = []\n",
    "for file_ in allFiles:\n",
    "    list_.append(file_)\n",
    "list_ = sorted(list_)\n",
    "\n",
    "#有幾天的資料\n",
    "csv_num = len(list_)/7\n",
    "\n",
    "for i in range(csv_num):\n",
    "    if i==0:\n",
    "        hR = pd.read_csv(list_[i])\n",
    "        heading = pd.read_csv(list_[i+csv_num])\n",
    "        xAcc = pd.read_csv(list_[i+2*csv_num])\n",
    "        xMag = pd.read_csv(list_[i+3*csv_num])\n",
    "        yAcc = pd.read_csv(list_[i+4*csv_num])\n",
    "        yMag = pd.read_csv(list_[i+5*csv_num])\n",
    "        zMag = pd.read_csv(list_[i+6*csv_num])\n",
    "    else:\n",
    "        hR = pd.concat([hR,pd.read_csv(list_[i])], join='inner').reset_index(drop=True)\n",
    "        heading = pd.concat([heading, pd.read_csv(list_[i+csv_num])], join='inner').reset_index(drop=True)\n",
    "        xAcc = pd.concat([xAcc,pd.read_csv(list_[i+2*csv_num])], join='inner').reset_index(drop=True)\n",
    "        xMag = pd.concat([xMag,pd.read_csv(list_[i+3*csv_num])], join='inner').reset_index(drop=True)\n",
    "        yAcc = pd.concat([yAcc,pd.read_csv(list_[i+4*csv_num])], join='inner').reset_index(drop=True)\n",
    "        yMag = pd.concat([yMag,pd.read_csv(list_[i+5*csv_num])], join='inner').reset_index(drop=True)\n",
    "        zMag = pd.concat([zMag,pd.read_csv(list_[i+6*csv_num])], join='inner').reset_index(drop=True)\n",
    "    min_length = min(len(hR),len(heading),len(xAcc),len(xMag),len(yAcc),len(yMag), len(zMag))\n",
    "    hR = hR[:min_length]\n",
    "    heading = heading[:min_length]\n",
    "    xAcc = heading[:min_length]\n",
    "    xMag = xMag[:min_length]\n",
    "    yAcc = yAcc[:min_length]\n",
    "    yMag = yMag[:min_length]\n",
    "    zMag = zMag[:min_length]\n"
   ]
  },
  {
   "cell_type": "markdown",
   "id": "9c76ff70",
   "metadata": {},
   "source": [
    "sensor data 與 activity 連結 \n",
    "data_len筆資料算同一個data"
   ]
  },
  {
   "cell_type": "code",
   "execution_count": null,
   "id": "c34aa970",
   "metadata": {},
   "outputs": [],
   "source": [
    "sensors = [hR,heading,xAcc,xMag,yAcc,yMag,zMag]\n",
    "\n",
    "# dt_obj = datetime.strptime(hR[0]['datetime'][0][2:], '%y-%m-%d %H:%M:%S')\n",
    "# dt_ = datetime.strptime(hR[0]['datetime'][1][2:], '%y-%m-%d %H:%M:%S')\n",
    "# print(abs(dt_-dt_obj))\n",
    "\n",
    "\n",
    "data_len = 20\n",
    "\n",
    "raw_act = pd.read_csv('../activity.csv')\n",
    "act_index = 0\n",
    "dt_act = datetime.strptime(raw_act['datetime'][0][2:], '%y/%m/%d %H:%M')\n",
    "dt_act_next = datetime.strptime(raw_act['datetime'][1][2:], '%y/%m/%d %H:%M')\n",
    "cur_act = raw_act['activity'][0]\n",
    "\n",
    "data_list = []\n",
    "data_count = 0\n",
    "\n",
    "values = []\n",
    "acts = []\n",
    "val = []\n",
    "\n",
    "for index in range(min_length):\n",
    "    data_count = data_count + 1\n",
    "    dt = datetime.strptime(hR['datetime'][index][2:], '%y-%m-%d %H:%M:%S')\n",
    "\n",
    "    # val.append(dt)\n",
    "\n",
    "    val.append(hR['value'][index])\n",
    "    for s in sensors[1:]:\n",
    "        val.append(s['value'][index])\n",
    "\n",
    "    if(dt > dt_act_next and act_index < len(raw_act)-2):\n",
    "        dt_act = dt_act_next\n",
    "        act_index = act_index + 1\n",
    "        dt_act_next = datetime.strptime(raw_act['datetime'][act_index+1][2:], '%y/%m/%d %H:%M')\n",
    "\n",
    "    if(raw_act['activity'][act_index] != cur_act):\n",
    "        cur_act = raw_act['activity'][act_index] \n",
    "        val = []\n",
    "        data_count = 0\n",
    "\n",
    "    if(data_count == data_len):\n",
    "#         if(cur_act == 'riding_bicycle'):\n",
    "#             acts.append(['riding'])\n",
    "#             values.append(val)\n",
    "        if(cur_act != 'other'):\n",
    "            acts.append([cur_act])\n",
    "            values.append(val)\n",
    "        val = []\n",
    "        data_count = 0\n",
    "\n",
    "    #\n",
    "\n",
    "    # if((dt - dt_act).total_seconds() <= 20*60): # 20 mins\n",
    "    #     val.append(raw_act['activity'][act_index])\n",
    "    # else:\n",
    "    #     val.append('NaN')\n",
    "\n",
    "    # val.append(raw_act['activity'][act_index])\n",
    "\n",
    "    # values.append(val)\n",
    "    "
   ]
  },
  {
   "cell_type": "code",
   "execution_count": null,
   "id": "dda76f25",
   "metadata": {},
   "outputs": [],
   "source": [
    "from sklearn.utils import shuffle\n",
    "from sklearn.preprocessing import LabelEncoder\n",
    "from sklearn.preprocessing import OneHotEncoder\n",
    "\n",
    "#shuffle data\n",
    "temp = list(zip(values, acts))\n",
    "shuffle(temp)\n",
    "x, y = zip(*temp)\n",
    "\n"
   ]
  },
  {
   "cell_type": "code",
   "execution_count": null,
   "id": "79d0cf6b",
   "metadata": {},
   "outputs": [],
   "source": [
    "# from sklearn.decomposition import PCA\n",
    "# pca = PCA(n_components=0.9)\n",
    "# x = pca.fit_transform(x)"
   ]
  },
  {
   "cell_type": "code",
   "execution_count": null,
   "id": "ddaf4654",
   "metadata": {
    "scrolled": true
   },
   "outputs": [],
   "source": [
    "with open(\"preprocessed_x.csv\", \"w\", newline=\"\") as f:\n",
    "    writer = csv.writer(f)\n",
    "    writer.writerows(x)\n",
    "\n",
    "with open(\"preprocessed_y.csv\", \"w\", newline=\"\") as f:\n",
    "    writer = csv.writer(f)\n",
    "    writer.writerows(y)\n"
   ]
  },
  {
   "cell_type": "code",
   "execution_count": null,
   "id": "fb277cdd",
   "metadata": {},
   "outputs": [
    {
     "name": "stdout",
     "output_type": "stream",
     "text": [
      "450\n"
     ]
    }
   ],
   "source": [
    "print(len(x))"
   ]
  }
 ],
 "metadata": {
  "kernelspec": {
   "display_name": "Python 3 (ipykernel)",
   "language": "python",
   "name": "python3"
  },
  "language_info": {
   "codemirror_mode": {
    "name": "ipython",
    "version": 3
   },
   "file_extension": ".py",
   "mimetype": "text/x-python",
   "name": "python",
   "nbconvert_exporter": "python",
   "pygments_lexer": "ipython3",
   "version": "3.10.0"
  },
  "vscode": {
   "interpreter": {
    "hash": "aee8b7b246df8f9039afb4144a1f6fd8d2ca17a180786b69acc140d282b71a49"
   }
  }
 },
 "nbformat": 4,
 "nbformat_minor": 5
}
