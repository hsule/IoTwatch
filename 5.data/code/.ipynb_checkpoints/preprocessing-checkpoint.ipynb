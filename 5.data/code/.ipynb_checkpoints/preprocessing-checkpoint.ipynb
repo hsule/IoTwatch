{
 "cells": [
  {
   "cell_type": "code",
   "execution_count": 1,
   "id": "6f37a42e",
   "metadata": {},
   "outputs": [],
   "source": [
    "import glob\n",
    "import csv\n",
    "import pandas as pd\n",
    "from pathlib import Path\n",
    "from datetime import *\n",
    "\n",
    "# from Csv_files import *\n",
    "\n",
    "#First method:\n",
    "allFiles = glob.glob(\"../watch\"+\"*.csv\")\n",
    "frame = pd.DataFrame()\n",
    "list_ = []\n",
    "for file_ in allFiles:\n",
    "    list_.append(file_)\n",
    "list_ = sorted(list_)"
   ]
  },
  {
   "cell_type": "code",
   "execution_count": 2,
   "id": "81a20cc5",
   "metadata": {
    "scrolled": false
   },
   "outputs": [],
   "source": [
    "csv_num = 7\n",
    "\n",
    "\n",
    "for i in range(csv_num):\n",
    "    if i==0:\n",
    "        hR = pd.read_csv(list_[i])\n",
    "        heading = pd.read_csv(list_[i+csv_num])\n",
    "        xAcc = pd.read_csv(list_[i+2*csv_num])\n",
    "        xMag = pd.read_csv(list_[i+3*csv_num])\n",
    "        yAcc = pd.read_csv(list_[i+4*csv_num])\n",
    "        yMag = pd.read_csv(list_[i+5*csv_num])\n",
    "        zMag = pd.read_csv(list_[i+6*csv_num])\n",
    "    else:\n",
    "        hR = pd.concat([hR,pd.read_csv(list_[i])], join='inner').reset_index(drop=True)\n",
    "        heading = pd.concat([heading, pd.read_csv(list_[i+csv_num])], join='inner').reset_index(drop=True)\n",
    "        xAcc = pd.concat([xAcc,pd.read_csv(list_[i+2*csv_num])], join='inner').reset_index(drop=True)\n",
    "        xMag = pd.concat([xMag,pd.read_csv(list_[i+3*csv_num])], join='inner').reset_index(drop=True)\n",
    "        yAcc = pd.concat([yAcc,pd.read_csv(list_[i+4*csv_num])], join='inner').reset_index(drop=True)\n",
    "        yMag = pd.concat([yMag,pd.read_csv(list_[i+5*csv_num])], join='inner').reset_index(drop=True)\n",
    "        zMag = pd.concat([zMag,pd.read_csv(list_[i+6*csv_num])], join='inner').reset_index(drop=True)\n",
    "    min_length = min(len(hR),len(heading),len(xAcc),len(xMag),len(yAcc),len(yMag), len(zMag))\n",
    "    hR = hR[:min_length]\n",
    "    heading = heading[:min_length]\n",
    "    xAcc = heading[:min_length]\n",
    "    xMag = xMag[:min_length]\n",
    "    yAcc = yAcc[:min_length]\n",
    "    yMag = yMag[:min_length]\n",
    "    zMag = zMag[:min_length]\n"
   ]
  },
  {
   "cell_type": "code",
   "execution_count": 3,
   "id": "c34aa970",
   "metadata": {},
   "outputs": [],
   "source": [
    "sensors = [hR,heading,xAcc,xMag,yAcc,yMag,zMag]\n",
    "\n",
    "# dt_obj = datetime.strptime(hR[0]['datetime'][0][2:], '%y-%m-%d %H:%M:%S')\n",
    "# dt_ = datetime.strptime(hR[0]['datetime'][1][2:], '%y-%m-%d %H:%M:%S')\n",
    "# print(abs(dt_-dt_obj))\n",
    "\n",
    "values = []\n",
    "\n",
    "raw_act = pd.read_csv('../activity.csv')\n",
    "act_index = 0\n",
    "dt_act = datetime.strptime(raw_act['datetime'][0][2:], '%y/%m/%d %H:%M')\n",
    "dt_act_next = datetime.strptime(raw_act['datetime'][1][2:], '%y/%m/%d %H:%M')\n",
    "for index in range(min_length):\n",
    "    val = []\n",
    "    dt = datetime.strptime(hR['datetime'][index][2:], '%y-%m-%d %H:%M:%S')\n",
    "    val.append(dt)\n",
    "    val.append(hR['value'][index])\n",
    "    for s in sensors[1:]:\n",
    "        val.append(s['value'][index])\n",
    "    if(dt > dt_act_next and act_index < len(raw_act)-2):\n",
    "        dt_act = dt_act_next\n",
    "        act_index = act_index + 1\n",
    "        dt_act_next = datetime.strptime(raw_act['datetime'][act_index+1][2:], '%y/%m/%d %H:%M')\n",
    "#     if((dt - dt_act).total_seconds() <= 20*60): # 20 mins\n",
    "#         val.append(raw_act['activity'][act_index])\n",
    "#     else:\n",
    "#         val.append('NaN')\n",
    "    val.append(raw_act['activity'][act_index])\n",
    "    values.append(val)\n",
    "    "
   ]
  },
  {
   "cell_type": "code",
   "execution_count": 4,
   "id": "ddaf4654",
   "metadata": {
    "scrolled": true
   },
   "outputs": [],
   "source": [
    "head = [['datetime','hR','heading','xAcc','xMag','yAcc','yMag','zMag','act']]\n",
    "with open(\"out.csv\", \"w\", newline=\"\") as f:\n",
    "    writer = csv.writer(f)\n",
    "    writer.writerows(head)\n",
    "    writer.writerows(values)"
   ]
  }
 ],
 "metadata": {
  "kernelspec": {
   "display_name": "Python 3 (ipykernel)",
   "language": "python",
   "name": "python3"
  },
  "language_info": {
   "codemirror_mode": {
    "name": "ipython",
    "version": 3
   },
   "file_extension": ".py",
   "mimetype": "text/x-python",
   "name": "python",
   "nbconvert_exporter": "python",
   "pygments_lexer": "ipython3",
   "version": "3.10.0"
  }
 },
 "nbformat": 4,
 "nbformat_minor": 5
}
