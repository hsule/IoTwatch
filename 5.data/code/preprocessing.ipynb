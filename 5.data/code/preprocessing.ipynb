{
 "cells": [
  {
   "cell_type": "code",
   "execution_count": 2,
   "id": "323b1e38",
   "metadata": {},
   "outputs": [],
   "source": [
    "import glob\n",
    "import csv\n",
    "import pandas as pd\n",
    "from pathlib import Path\n",
    "from datetime import *\n"
   ]
  },
  {
   "cell_type": "markdown",
   "id": "58584f2a",
   "metadata": {},
   "source": [
    "匯入sensor data"
   ]
  },
  {
   "cell_type": "code",
   "execution_count": 3,
   "id": "81a20cc5",
   "metadata": {
    "scrolled": false
   },
   "outputs": [],
   "source": [
    "allFiles = glob.glob(\"../watch\"+\"*.csv\")\n",
    "frame = pd.DataFrame()\n",
    "list_ = []\n",
    "for file_ in allFiles:\n",
    "    list_.append(file_)\n",
    "list_ = sorted(list_)\n",
    "\n",
    "csv_num = 7\n",
    "for i in range(csv_num):\n",
    "    if i==0:\n",
    "        hR = pd.read_csv(list_[i])\n",
    "        heading = pd.read_csv(list_[i+csv_num])\n",
    "        xAcc = pd.read_csv(list_[i+2*csv_num])\n",
    "        xMag = pd.read_csv(list_[i+3*csv_num])\n",
    "        yAcc = pd.read_csv(list_[i+4*csv_num])\n",
    "        yMag = pd.read_csv(list_[i+5*csv_num])\n",
    "        zMag = pd.read_csv(list_[i+6*csv_num])\n",
    "    else:\n",
    "        hR = pd.concat([hR,pd.read_csv(list_[i])], join='inner').reset_index(drop=True)\n",
    "        heading = pd.concat([heading, pd.read_csv(list_[i+csv_num])], join='inner').reset_index(drop=True)\n",
    "        xAcc = pd.concat([xAcc,pd.read_csv(list_[i+2*csv_num])], join='inner').reset_index(drop=True)\n",
    "        xMag = pd.concat([xMag,pd.read_csv(list_[i+3*csv_num])], join='inner').reset_index(drop=True)\n",
    "        yAcc = pd.concat([yAcc,pd.read_csv(list_[i+4*csv_num])], join='inner').reset_index(drop=True)\n",
    "        yMag = pd.concat([yMag,pd.read_csv(list_[i+5*csv_num])], join='inner').reset_index(drop=True)\n",
    "        zMag = pd.concat([zMag,pd.read_csv(list_[i+6*csv_num])], join='inner').reset_index(drop=True)\n",
    "    min_length = min(len(hR),len(heading),len(xAcc),len(xMag),len(yAcc),len(yMag), len(zMag))\n",
    "    hR = hR[:min_length]\n",
    "    heading = heading[:min_length]\n",
    "    xAcc = heading[:min_length]\n",
    "    xMag = xMag[:min_length]\n",
    "    yAcc = yAcc[:min_length]\n",
    "    yMag = yMag[:min_length]\n",
    "    zMag = zMag[:min_length]\n"
   ]
  },
  {
   "cell_type": "markdown",
   "id": "9c76ff70",
   "metadata": {},
   "source": [
    "sensor data 與 activity 連結 \n",
    "data_len筆資料算同一個data"
   ]
  },
  {
   "cell_type": "code",
   "execution_count": 36,
   "id": "c34aa970",
   "metadata": {},
   "outputs": [],
   "source": [
    "sensors = [hR,heading,xAcc,xMag,yAcc,yMag,zMag]\n",
    "\n",
    "# dt_obj = datetime.strptime(hR[0]['datetime'][0][2:], '%y-%m-%d %H:%M:%S')\n",
    "# dt_ = datetime.strptime(hR[0]['datetime'][1][2:], '%y-%m-%d %H:%M:%S')\n",
    "# print(abs(dt_-dt_obj))\n",
    "\n",
    "\n",
    "data_len = 10\n",
    "\n",
    "raw_act = pd.read_csv('../activity.csv')\n",
    "act_index = 0\n",
    "dt_act = datetime.strptime(raw_act['datetime'][0][2:], '%y/%m/%d %H:%M')\n",
    "dt_act_next = datetime.strptime(raw_act['datetime'][1][2:], '%y/%m/%d %H:%M')\n",
    "cur_act = raw_act['activity'][0]\n",
    "\n",
    "data_list = []\n",
    "data_count = 0\n",
    "\n",
    "values = []\n",
    "acts = []\n",
    "val = []\n",
    "\n",
    "for index in range(min_length):\n",
    "    data_count = data_count + 1\n",
    "    dt = datetime.strptime(hR['datetime'][index][2:], '%y-%m-%d %H:%M:%S')\n",
    "\n",
    "    # val.append(dt)\n",
    "\n",
    "    val.append(hR['value'][index])\n",
    "    for s in sensors[1:]:\n",
    "        val.append(s['value'][index])\n",
    "\n",
    "    if(dt > dt_act_next and act_index < len(raw_act)-2):\n",
    "        dt_act = dt_act_next\n",
    "        act_index = act_index + 1\n",
    "        dt_act_next = datetime.strptime(raw_act['datetime'][act_index+1][2:], '%y/%m/%d %H:%M')\n",
    "\n",
    "    if(raw_act['activity'][act_index] != cur_act):\n",
    "        cur_act = raw_act['activity'][act_index] \n",
    "        val = []\n",
    "        data_count = 0\n",
    "\n",
    "    if(data_count == data_len):\n",
    "        acts.append(cur_act)\n",
    "        values.append(val)\n",
    "        val = []\n",
    "        data_count = 0\n",
    "\n",
    "    #\n",
    "\n",
    "    # if((dt - dt_act).total_seconds() <= 20*60): # 20 mins\n",
    "    #     val.append(raw_act['activity'][act_index])\n",
    "    # else:\n",
    "    #     val.append('NaN')\n",
    "\n",
    "    # val.append(raw_act['activity'][act_index])\n",
    "\n",
    "    # values.append(val)\n",
    "    "
   ]
  },
  {
   "cell_type": "code",
   "execution_count": 38,
   "id": "59a10b53",
   "metadata": {},
   "outputs": [
    {
     "name": "stdout",
     "output_type": "stream",
     "text": [
      "[106.0, 0.25088, 0.25088, -56.0, 809.0, -852.0, 221.0, 102.0, 0.256491, 0.256491, 91.0, 675.0, -632.0, 312.0, 97.0, 2.31249, 2.31249, -313.0, 754.0, -535.0, -490.0, 99.0, -1.20361, -1.20361, 643.0, 183.0, -82.0, -317.0, 104.0, -0.447343, -0.447343, 482.0, 718.0, -483.0, 285.0, 109.0, -0.6173, -0.6173, 365.0, 498.0, -560.0, -328.0, 113.0, -2.25246, -2.25246, 823.0, 767.0, -637.0, -158.0, 115.0, -2.73556, -2.73556, 791.0, 529.0, -687.0, -391.0, 110.0, 2.98672, 2.98672, 146.0, -316.0, -785.0, -158.0, 120.0, -2.48096, -2.48096, 261.0, 878.0, -340.0, -244.0]\n"
     ]
    }
   ],
   "source": [
    "print(values[0])\n"
   ]
  },
  {
   "cell_type": "code",
   "execution_count": 42,
   "id": "dda76f25",
   "metadata": {},
   "outputs": [
    {
     "data": {
      "text/plain": [
       "1962"
      ]
     },
     "execution_count": 42,
     "metadata": {},
     "output_type": "execute_result"
    }
   ],
   "source": [
    "from sklearn.utils import shuffle\n",
    "from sklearn.preprocessing import LabelEncoder\n",
    "from sklearn.preprocessing import OneHotEncoder\n",
    "\n",
    "#shuffle data\n",
    "temp = list(zip(values, acts))\n",
    "shuffle(temp)\n",
    "x, y = zip(*temp)"
   ]
  },
  {
   "cell_type": "code",
   "execution_count": 13,
   "id": "ddaf4654",
   "metadata": {
    "scrolled": true
   },
   "outputs": [],
   "source": [
    "# head = [['hR','heading','xAcc','xMag','yAcc','yMag','zMag','act']]\n",
    "with open(\"out.csv\", \"w\", newline=\"\") as f:\n",
    "    writer = csv.writer(f)\n",
    "    # writer.writerows(head)\n",
    "    writer.writerows(values)\n"
   ]
  },
  {
   "cell_type": "code",
   "execution_count": null,
   "id": "fb277cdd",
   "metadata": {},
   "outputs": [],
   "source": []
  }
 ],
 "metadata": {
  "kernelspec": {
   "display_name": "Python 3.10.0 64-bit",
   "language": "python",
   "name": "python3"
  },
  "language_info": {
   "codemirror_mode": {
    "name": "ipython",
    "version": 3
   },
   "file_extension": ".py",
   "mimetype": "text/x-python",
   "name": "python",
   "nbconvert_exporter": "python",
   "pygments_lexer": "ipython3",
   "version": "3.10.0"
  },
  "vscode": {
   "interpreter": {
    "hash": "aee8b7b246df8f9039afb4144a1f6fd8d2ca17a180786b69acc140d282b71a49"
   }
  }
 },
 "nbformat": 4,
 "nbformat_minor": 5
}
