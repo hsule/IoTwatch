{
 "cells": [
  {
   "cell_type": "code",
   "execution_count": 1,
   "metadata": {},
   "outputs": [],
   "source": [
    "import numpy as np\n",
    "import pandas as pd\n",
    "import matplotlib.pyplot as plt\n",
    "from sklearn.model_selection import KFold\n",
    "from sklearn.metrics import confusion_matrix\n",
    "from sklearn.metrics import classification_report\n",
    "from sklearn.ensemble import RandomForestClassifier\n",
    "\n",
    "import seaborn as sns \n",
    "\n",
    "\n",
    "%matplotlib inline"
   ]
  },
  {
   "cell_type": "code",
   "execution_count": 2,
   "metadata": {},
   "outputs": [],
   "source": [
    "import warnings\n",
    "warnings.filterwarnings('ignore')"
   ]
  },
  {
   "cell_type": "markdown",
   "metadata": {},
   "source": [
    "匯入data"
   ]
  },
  {
   "cell_type": "code",
   "execution_count": 3,
   "metadata": {},
   "outputs": [],
   "source": [
    "x = np.genfromtxt('preprocessed_x.csv', delimiter=',')\n",
    "y = np.genfromtxt('preprocessed_y.csv', delimiter=',', dtype= None)"
   ]
  },
  {
   "cell_type": "code",
   "execution_count": 4,
   "metadata": {
    "scrolled": false
   },
   "outputs": [
    {
     "name": "stdout",
     "output_type": "stream",
     "text": [
      "RandomForestClassifier\n",
      "                   precision    recall  f1-score   support\n",
      "\n",
      "      b'bathroom'       0.67      0.29      0.40         7\n",
      "       b'driving'       0.67      0.24      0.36        33\n",
      "        b'eating'       0.00      0.00      0.00        45\n",
      "         b'lying'       0.72      0.28      0.40        47\n",
      "        b'riding'       0.00      0.00      0.00         2\n",
      "       b'sitting'       0.63      0.88      0.74       216\n",
      "      b'standing'       0.00      0.00      0.00         2\n",
      "b'using_computer'       0.80      0.96      0.87       232\n",
      "       b'walking'       1.00      0.04      0.07        28\n",
      "\n",
      "         accuracy                           0.71       612\n",
      "        macro avg       0.50      0.30      0.31       612\n",
      "     weighted avg       0.67      0.71      0.65       612\n",
      "\n"
     ]
    },
    {
     "data": {
      "image/png": "[encoded data removed]",
      "text/plain": [
       "<Figure size 432x288 with 1 Axes>"
      ]
     },
     "metadata": {
      "needs_background": "light"
     },
     "output_type": "display_data"
    }
   ],
   "source": [
    "rf = RandomForestClassifier(n_estimators = 200)\n",
    "\n",
    "\n",
    "fin_test = np.array([])\n",
    "fin_pred = np.array([])\n",
    "\n",
    "for i,(train, test) in enumerate(KFold(n_splits=3).split(x)):\n",
    "    #Train-Test-Split\n",
    "    x_train = x[train]\n",
    "    y_train = y[train]\n",
    "    x_test = x[test]\n",
    "    y_test = y[test]\n",
    "    \n",
    "    rf.fit(x_train, y_train)\n",
    "\n",
    "    fin_test = np.concatenate((fin_test, y_test), axis=0)\n",
    "    fin_pred = np.concatenate((fin_pred, rf.predict(x_test)), axis=0)\n",
    "    \n",
    "print(\"RandomForestClassifier\")\n",
    "print(classification_report(fin_test, fin_pred))\n",
    "\n",
    "sns.heatmap(confusion_matrix(fin_test, fin_pred), square= True, fmt ='.0f', annot=True, cbar=False)\n",
    "\n",
    "plt.xlabel(\"predicted value\")\n",
    "plt.ylabel(\"true value\")\n",
    "plt.show()\n"
   ]
  }
 ],
 "metadata": {
  "kernelspec": {
   "display_name": "Python 3 (ipykernel)",
   "language": "python",
   "name": "python3"
  },
  "language_info": {
   "codemirror_mode": {
    "name": "ipython",
    "version": 3
   },
   "file_extension": ".py",
   "mimetype": "text/x-python",
   "name": "python",
   "nbconvert_exporter": "python",
   "pygments_lexer": "ipython3",
   "version": "3.10.0"
  },
  "vscode": {
   "interpreter": {
    "hash": "aee8b7b246df8f9039afb4144a1f6fd8d2ca17a180786b69acc140d282b71a49"
   }
  }
 },
 "nbformat": 4,
 "nbformat_minor": 2
}
