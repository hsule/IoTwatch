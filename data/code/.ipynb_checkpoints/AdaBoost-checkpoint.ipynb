{
 "cells": [
  {
   "cell_type": "code",
   "execution_count": 1,
   "metadata": {},
   "outputs": [],
   "source": [
    "import numpy as np\n",
    "import pandas as pd\n",
    "import matplotlib.pyplot as plt\n",
    "from sklearn.model_selection import KFold\n",
    "from sklearn.metrics import confusion_matrix\n",
    "from sklearn.metrics import classification_report\n",
    "from sklearn.ensemble import AdaBoostClassifier\n",
    "from sklearn.ensemble import RandomForestClassifier\n",
    "\n",
    "import seaborn as sns \n",
    "\n",
    "\n",
    "%matplotlib inline"
   ]
  },
  {
   "cell_type": "markdown",
   "metadata": {},
   "source": [
    "匯入data"
   ]
  },
  {
   "cell_type": "code",
   "execution_count": 3,
   "metadata": {},
   "outputs": [
    {
     "name": "stderr",
     "output_type": "stream",
     "text": [
      "/var/folders/pm/0l7hctnj2cxcz2j52rqsnw5c0000gn/T/ipykernel_30570/3448424959.py:2: VisibleDeprecationWarning: Reading unicode strings without specifying the encoding argument is deprecated. Set the encoding, use None for the system default.\n",
      "  y = np.genfromtxt('preprocessed_y.csv', delimiter=',', dtype= None)\n"
     ]
    }
   ],
   "source": [
    "x = np.genfromtxt('preprocessed_x.csv', delimiter=',')\n",
    "y = np.genfromtxt('preprocessed_y.csv', delimiter=',', dtype= None)"
   ]
  },
  {
   "cell_type": "code",
   "execution_count": 13,
   "metadata": {
    "scrolled": false
   },
   "outputs": [
    {
     "name": "stderr",
     "output_type": "stream",
     "text": [
      "/Library/Frameworks/Python.framework/Versions/3.10/lib/python3.10/site-packages/sklearn/metrics/_classification.py:1334: UndefinedMetricWarning: Precision and F-score are ill-defined and being set to 0.0 in labels with no predicted samples. Use `zero_division` parameter to control this behavior.\n",
      "  _warn_prf(average, modifier, msg_start, len(result))\n",
      "/Library/Frameworks/Python.framework/Versions/3.10/lib/python3.10/site-packages/sklearn/metrics/_classification.py:1334: UndefinedMetricWarning: Precision and F-score are ill-defined and being set to 0.0 in labels with no predicted samples. Use `zero_division` parameter to control this behavior.\n",
      "  _warn_prf(average, modifier, msg_start, len(result))\n",
      "/Library/Frameworks/Python.framework/Versions/3.10/lib/python3.10/site-packages/sklearn/metrics/_classification.py:1334: UndefinedMetricWarning: Precision and F-score are ill-defined and being set to 0.0 in labels with no predicted samples. Use `zero_division` parameter to control this behavior.\n",
      "  _warn_prf(average, modifier, msg_start, len(result))\n"
     ]
    },
    {
     "name": "stdout",
     "output_type": "stream",
     "text": [
      "                   precision    recall  f1-score   support\n",
      "\n",
      "      b'bathroom'       0.10      0.10      0.10        10\n",
      "       b'driving'       0.00      0.00      0.00        31\n",
      "        b'eating'       0.33      0.29      0.31        58\n",
      "         b'lying'       0.75      0.87      0.80       240\n",
      "        b'riding'       0.33      0.07      0.11        15\n",
      "b'riding_bicycle'       0.00      0.00      0.00        17\n",
      "       b'sitting'       0.50      0.50      0.50       187\n",
      "      b'sleeping'       0.40      0.13      0.20        15\n",
      "      b'standing'       0.00      0.00      0.00         7\n",
      "b'using_computer'       0.61      0.66      0.63       159\n",
      "       b'walking'       0.61      0.76      0.67        90\n",
      "\n",
      "         accuracy                           0.60       829\n",
      "        macro avg       0.33      0.31      0.30       829\n",
      "     weighted avg       0.55      0.60      0.57       829\n",
      "\n"
     ]
    },
    {
     "data": {
      "image/png": "[encoded data removed]",
      "text/plain": [
       "<Figure size 432x288 with 1 Axes>"
      ]
     },
     "metadata": {
      "needs_background": "light"
     },
     "output_type": "display_data"
    }
   ],
   "source": [
    "adb = AdaBoostClassifier(base_estimator = RandomForestClassifier(), n_estimators=50, learning_rate=1.0, \n",
    "                         algorithm='SAMME.R', random_state=None)\n",
    "\n",
    "\n",
    "fin_test = np.array([])\n",
    "fin_pred = np.array([])\n",
    "\n",
    "for i,(train, test) in enumerate(KFold(n_splits=3).split(x)):\n",
    "    #Train-Test-Split\n",
    "    x_train = x[train]\n",
    "    y_train = y[train]\n",
    "    x_test = x[test]\n",
    "    y_test = y[test]\n",
    "    \n",
    "    adb.fit(x_train, y_train)\n",
    "\n",
    "    fin_test = np.concatenate((fin_test, y_test), axis=0)\n",
    "    fin_pred = np.concatenate((fin_pred, adb.predict(x_test)), axis=0)\n",
    "\n",
    "print(\"AdaBoostClassifier(base_estimator = RandomForestClassifier())\")\n",
    "print(classification_report(fin_test, fin_pred))\n",
    "\n",
    "sns.heatmap(confusion_matrix(fin_test, fin_pred), square= True, fmt ='.0f', annot=True, cbar=False)\n",
    "plt.xlabel(\"predicted value\")\n",
    "plt.ylabel(\"true value\")\n",
    "plt.show()\n"
   ]
  }
 ],
 "metadata": {
  "kernelspec": {
   "display_name": "Python 3 (ipykernel)",
   "language": "python",
   "name": "python3"
  },
  "language_info": {
   "codemirror_mode": {
    "name": "ipython",
    "version": 3
   },
   "file_extension": ".py",
   "mimetype": "text/x-python",
   "name": "python",
   "nbconvert_exporter": "python",
   "pygments_lexer": "ipython3",
   "version": "3.10.0"
  },
  "vscode": {
   "interpreter": {
    "hash": "aee8b7b246df8f9039afb4144a1f6fd8d2ca17a180786b69acc140d282b71a49"
   }
  }
 },
 "nbformat": 4,
 "nbformat_minor": 2
}
