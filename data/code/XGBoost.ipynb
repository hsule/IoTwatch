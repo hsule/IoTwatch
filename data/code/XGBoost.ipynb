{
  "cells": [
    {
      "cell_type": "code",
      "execution_count": 4,
      "metadata": {
        "id": "i43vIAI_e3xW"
      },
      "outputs": [],
      "source": [
        "import numpy as np\n",
        "import pandas as pd\n",
        "import matplotlib.pyplot as plt\n",
        "from sklearn.model_selection import KFold\n",
        "from sklearn.metrics import confusion_matrix\n",
        "from sklearn.metrics import classification_report\n",
        "from xgboost import XGBClassifier\n",
        "\n",
        "import seaborn as sns \n",
        "\n",
        "from sklearn.ensemble import RandomForestClassifier\n",
        "from sklearn.tree import DecisionTreeClassifier\n",
        "from sklearn.ensemble import StackingClassifier\n",
        "from sklearn.neural_network import MLPClassifier\n",
        "from sklearn.ensemble import AdaBoostClassifier\n",
        "from sklearn.ensemble import GradientBoostingClassifier\n",
        "from sklearn.linear_model import LogisticRegression\n",
        "\n",
        "\n",
        "\n",
        "%matplotlib inline"
      ]
    },
    {
      "cell_type": "code",
      "execution_count": 5,
      "metadata": {
        "id": "9ge-I-eLe3xZ"
      },
      "outputs": [],
      "source": [
        "import warnings\n",
        "warnings.filterwarnings('ignore')"
      ]
    },
    {
      "cell_type": "markdown",
      "metadata": {
        "id": "xZVv8pcHe3xa"
      },
      "source": [
        "匯入data"
      ]
    },
    {
      "cell_type": "code",
      "execution_count": 6,
      "metadata": {
        "id": "aVHOvnoIe3xb"
      },
      "outputs": [],
      "source": [
        "x = np.genfromtxt('preprocessed_x.csv', delimiter=',')\n",
        "y = np.genfromtxt('preprocessed_y.csv', delimiter=',', dtype= None)"
      ]
    },
    {
      "cell_type": "code",
      "execution_count": 9,
      "metadata": {
        "scrolled": false,
        "colab": {
          "base_uri": "https://localhost:8080/",
          "height": 558
        },
        "id": "EMDLjo5ce3xc",
        "outputId": "84047ff5-4826-462e-8a8b-4eed9132646e"
      },
      "outputs": [
        {
          "output_type": "stream",
          "name": "stdout",
          "text": [
            "XGB\n",
            "                   precision    recall  f1-score   support\n",
            "\n",
            "      b'bathroom'       0.83      0.45      0.59        22\n",
            "       b'driving'       0.75      0.40      0.52        97\n",
            "        b'eating'       0.48      0.32      0.38       106\n",
            "         b'lying'       0.59      0.51      0.55       210\n",
            "        b'riding'       0.00      0.00      0.00         8\n",
            "       b'sitting'       0.70      0.76      0.73       517\n",
            "      b'standing'       0.00      0.00      0.00         3\n",
            "b'using_computer'       0.77      0.89      0.82       533\n",
            "       b'walking'       0.60      0.58      0.59        74\n",
            "\n",
            "         accuracy                           0.70      1570\n",
            "        macro avg       0.52      0.44      0.47      1570\n",
            "     weighted avg       0.69      0.70      0.69      1570\n",
            "\n"
          ]
        },
        {
          "output_type": "display_data",
          "data": {
            "text/plain": [
              "<Figure size 432x288 with 1 Axes>"
            ],
            "image/png": "[encoded data removed]"
          },
          "metadata": {
            "needs_background": "light"
          }
        }
      ],
      "source": [
        "xgb = XGBClassifier()\n",
        "\n",
        "fin_test = np.array([])\n",
        "fin_pred = np.array([])\n",
        "\n",
        "for i,(train, test) in enumerate(KFold(n_splits=3).split(x)):\n",
        "    #Train-Test-Split\n",
        "    x_train = x[train]\n",
        "    y_train = y[train]\n",
        "    x_test = x[test]\n",
        "    y_test = y[test]\n",
        "    xgb.fit(x_train, y_train)\n",
        "\n",
        "    fin_test = np.concatenate((fin_test, y_test), axis=0)\n",
        "    fin_pred = np.concatenate((fin_pred, xgb.predict(x_test)), axis=0)\n",
        "\n",
        "print(\"XGB\")\n",
        "print(classification_report(fin_test, fin_pred))\n",
        "\n",
        "sns.heatmap(confusion_matrix(fin_test, fin_pred), square= True, fmt ='.0f', annot=True, cbar=False)\n",
        "plt.xlabel(\"predicted value\")\n",
        "plt.ylabel(\"true value\")\n",
        "plt.show()\n"
      ]
    }
  ],
  "metadata": {
    "kernelspec": {
      "display_name": "Python 3 (ipykernel)",
      "language": "python",
      "name": "python3"
    },
    "language_info": {
      "codemirror_mode": {
        "name": "ipython",
        "version": 3
      },
      "file_extension": ".py",
      "mimetype": "text/x-python",
      "name": "python",
      "nbconvert_exporter": "python",
      "pygments_lexer": "ipython3",
      "version": "3.10.0"
    },
    "vscode": {
      "interpreter": {
        "hash": "aee8b7b246df8f9039afb4144a1f6fd8d2ca17a180786b69acc140d282b71a49"
      }
    },
    "colab": {
      "provenance": []
    }
  },
  "nbformat": 4,
  "nbformat_minor": 0
}