{
 "cells": [
  {
   "cell_type": "code",
   "execution_count": null,
   "metadata": {},
   "outputs": [],
   "source": [
    "import numpy as np\n",
    "import matplotlib.pyplot as plt\n",
    "from sklearn.metrics import classification_report\n",
    "from sklearn.model_selection import cross_val_predict\n",
    "from mlxtend.plotting import plot_confusion_matrix\n",
    "from mlxtend.evaluate import confusion_matrix\n",
    "\n",
    "from sklearn.tree import DecisionTreeClassifier\n",
    "%matplotlib inline"
   ]
  },
  {
   "cell_type": "code",
   "execution_count": null,
   "metadata": {},
   "outputs": [],
   "source": [
    "import warnings\n",
    "warnings.filterwarnings('ignore')"
   ]
  },
  {
   "cell_type": "code",
   "execution_count": null,
   "metadata": {},
   "outputs": [],
   "source": [
    "x = np.genfromtxt('preprocessed_x_bathroom.csv', delimiter=',')\n",
    "y = np.genfromtxt('preprocessed_y_bathroom.csv', delimiter=',', dtype= None)"
   ]
  },
  {
   "cell_type": "code",
   "execution_count": null,
   "metadata": {},
   "outputs": [],
   "source": [
    "feature_names=[]\n",
    "for names in y:\n",
    "  if names not in feature_names:\n",
    "    feature_names.append(names)"
   ]
  },
  {
   "cell_type": "code",
   "execution_count": null,
   "metadata": {},
   "outputs": [],
   "source": [
    "from lightgbm import LGBMClassifier\n",
    "lgbm = LGBMClassifier(max_bin=255, n_estimators=100)\n",
    "for splits in range(5,7):\n",
    "    fin_pred = cross_val_predict(lgbm, x, y, cv=splits)\n",
    "    print(\"LGBM\")\n",
    "    print(classification_report(y, fin_pred))\n",
    "\n",
    "    cm = confusion_matrix(y_target=y, \n",
    "                y_predicted=fin_pred, \n",
    "                binary=False)\n",
    "    fig,ax=plot_confusion_matrix(conf_mat=cm\n",
    "                ,show_absolute=True\n",
    "                ,show_normed=False\n",
    "                ,colorbar=False\n",
    "                ,class_names=feature_names\n",
    "                #,cmap='PuBu'\n",
    "                ,fontcolor_threshold=0.6\n",
    "                )\n",
    "    plt.show()"
   ]
  }
 ],
 "metadata": {
  "kernelspec": {
   "display_name": "Python 3",
   "language": "python",
   "name": "python3"
  },
  "language_info": {
   "name": "python",
   "version": "3.10.0 (tags/v3.10.0:b494f59, Oct  4 2021, 19:00:18) [MSC v.1929 64 bit (AMD64)]"
  },
  "orig_nbformat": 4,
  "vscode": {
   "interpreter": {
    "hash": "57e3ffd0aa5f522d043ae6935574d5ca5b6b7a6179bb5e22d076dcaf64259c80"
   }
  }
 },
 "nbformat": 4,
 "nbformat_minor": 2
}
